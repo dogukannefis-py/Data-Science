{
 "cells": [
  {
   "cell_type": "code",
   "execution_count": 1,
   "metadata": {
    "ExecuteTime": {
     "end_time": "2020-09-01T13:04:38.584198Z",
     "start_time": "2020-09-01T13:04:36.325716Z"
    }
   },
   "outputs": [
    {
     "name": "stderr",
     "output_type": "stream",
     "text": [
      "/usr/local/lib/python3.6/dist-packages/tensorflow/python/framework/dtypes.py:516: FutureWarning: Passing (type, 1) or '1type' as a synonym of type is deprecated; in a future version of numpy, it will be understood as (type, (1,)) / '(1,)type'.\n",
      "  _np_qint8 = np.dtype([(\"qint8\", np.int8, 1)])\n",
      "/usr/local/lib/python3.6/dist-packages/tensorflow/python/framework/dtypes.py:517: FutureWarning: Passing (type, 1) or '1type' as a synonym of type is deprecated; in a future version of numpy, it will be understood as (type, (1,)) / '(1,)type'.\n",
      "  _np_quint8 = np.dtype([(\"quint8\", np.uint8, 1)])\n",
      "/usr/local/lib/python3.6/dist-packages/tensorflow/python/framework/dtypes.py:518: FutureWarning: Passing (type, 1) or '1type' as a synonym of type is deprecated; in a future version of numpy, it will be understood as (type, (1,)) / '(1,)type'.\n",
      "  _np_qint16 = np.dtype([(\"qint16\", np.int16, 1)])\n",
      "/usr/local/lib/python3.6/dist-packages/tensorflow/python/framework/dtypes.py:519: FutureWarning: Passing (type, 1) or '1type' as a synonym of type is deprecated; in a future version of numpy, it will be understood as (type, (1,)) / '(1,)type'.\n",
      "  _np_quint16 = np.dtype([(\"quint16\", np.uint16, 1)])\n",
      "/usr/local/lib/python3.6/dist-packages/tensorflow/python/framework/dtypes.py:520: FutureWarning: Passing (type, 1) or '1type' as a synonym of type is deprecated; in a future version of numpy, it will be understood as (type, (1,)) / '(1,)type'.\n",
      "  _np_qint32 = np.dtype([(\"qint32\", np.int32, 1)])\n",
      "/usr/local/lib/python3.6/dist-packages/tensorflow/python/framework/dtypes.py:525: FutureWarning: Passing (type, 1) or '1type' as a synonym of type is deprecated; in a future version of numpy, it will be understood as (type, (1,)) / '(1,)type'.\n",
      "  np_resource = np.dtype([(\"resource\", np.ubyte, 1)])\n",
      "/usr/local/lib/python3.6/dist-packages/tensorboard/compat/tensorflow_stub/dtypes.py:541: FutureWarning: Passing (type, 1) or '1type' as a synonym of type is deprecated; in a future version of numpy, it will be understood as (type, (1,)) / '(1,)type'.\n",
      "  _np_qint8 = np.dtype([(\"qint8\", np.int8, 1)])\n",
      "/usr/local/lib/python3.6/dist-packages/tensorboard/compat/tensorflow_stub/dtypes.py:542: FutureWarning: Passing (type, 1) or '1type' as a synonym of type is deprecated; in a future version of numpy, it will be understood as (type, (1,)) / '(1,)type'.\n",
      "  _np_quint8 = np.dtype([(\"quint8\", np.uint8, 1)])\n",
      "/usr/local/lib/python3.6/dist-packages/tensorboard/compat/tensorflow_stub/dtypes.py:543: FutureWarning: Passing (type, 1) or '1type' as a synonym of type is deprecated; in a future version of numpy, it will be understood as (type, (1,)) / '(1,)type'.\n",
      "  _np_qint16 = np.dtype([(\"qint16\", np.int16, 1)])\n",
      "/usr/local/lib/python3.6/dist-packages/tensorboard/compat/tensorflow_stub/dtypes.py:544: FutureWarning: Passing (type, 1) or '1type' as a synonym of type is deprecated; in a future version of numpy, it will be understood as (type, (1,)) / '(1,)type'.\n",
      "  _np_quint16 = np.dtype([(\"quint16\", np.uint16, 1)])\n",
      "/usr/local/lib/python3.6/dist-packages/tensorboard/compat/tensorflow_stub/dtypes.py:545: FutureWarning: Passing (type, 1) or '1type' as a synonym of type is deprecated; in a future version of numpy, it will be understood as (type, (1,)) / '(1,)type'.\n",
      "  _np_qint32 = np.dtype([(\"qint32\", np.int32, 1)])\n",
      "/usr/local/lib/python3.6/dist-packages/tensorboard/compat/tensorflow_stub/dtypes.py:550: FutureWarning: Passing (type, 1) or '1type' as a synonym of type is deprecated; in a future version of numpy, it will be understood as (type, (1,)) / '(1,)type'.\n",
      "  np_resource = np.dtype([(\"resource\", np.ubyte, 1)])\n"
     ]
    }
   ],
   "source": [
    "# univariate lstm example\n",
    "import numpy as np\n",
    "from tensorflow.keras.models import Sequential\n",
    "from tensorflow.keras.layers import LSTM\n",
    "from tensorflow.keras.layers import Dense\n",
    "from tensorflow.keras.layers import Flatten"
   ]
  },
  {
   "cell_type": "code",
   "execution_count": 2,
   "metadata": {
    "ExecuteTime": {
     "end_time": "2020-09-01T13:06:11.925067Z",
     "start_time": "2020-09-01T13:06:11.916081Z"
    }
   },
   "outputs": [],
   "source": [
    "# preparing independent and dependent features\n",
    "def prepare_data(timeseries_data, look_back):\n",
    "    X, y =[],[]\n",
    "    for i in range(len(timeseries_data)):\n",
    "        # find the end of this pattern\n",
    "        end_ix = i + look_back\n",
    "        # check if we are beyond the sequence\n",
    "        if end_ix > len(timeseries_data)-1:\n",
    "            break\n",
    "        # gather input and output parts of the pattern\n",
    "        seq_x, seq_y = timeseries_data[i:end_ix], timeseries_data[end_ix]\n",
    "        X.append(seq_x)\n",
    "        y.append(seq_y)\n",
    "    return np.array(X), np.array(y)"
   ]
  },
  {
   "cell_type": "code",
   "execution_count": 5,
   "metadata": {
    "ExecuteTime": {
     "end_time": "2020-09-01T13:07:32.485711Z",
     "start_time": "2020-09-01T13:07:32.480217Z"
    }
   },
   "outputs": [],
   "source": [
    "# define input sequence\n",
    "timeseries_data = [110, 120, 125, 128, 119, 123, 125, 128, 123, 127]\n",
    "# choose a number of time steps\n",
    "look_back = 3\n",
    "# split into samples\n",
    "X, y = prepare_data(timeseries_data, look_back)"
   ]
  },
  {
   "cell_type": "code",
   "execution_count": 9,
   "metadata": {
    "ExecuteTime": {
     "end_time": "2020-09-01T13:07:56.724703Z",
     "start_time": "2020-09-01T13:07:56.719546Z"
    }
   },
   "outputs": [
    {
     "data": {
      "text/plain": [
       "(array([[110, 120, 125],\n",
       "        [120, 125, 128],\n",
       "        [125, 128, 119],\n",
       "        [128, 119, 123],\n",
       "        [119, 123, 125],\n",
       "        [123, 125, 128],\n",
       "        [125, 128, 123]]),\n",
       " array([128, 119, 123, 125, 128, 123, 127]))"
      ]
     },
     "execution_count": 9,
     "metadata": {},
     "output_type": "execute_result"
    }
   ],
   "source": [
    "X,y"
   ]
  },
  {
   "cell_type": "code",
   "execution_count": 10,
   "metadata": {
    "ExecuteTime": {
     "end_time": "2020-09-01T13:11:44.327726Z",
     "start_time": "2020-09-01T13:11:44.322127Z"
    }
   },
   "outputs": [
    {
     "data": {
      "text/plain": [
       "(7, 3)"
      ]
     },
     "execution_count": 10,
     "metadata": {},
     "output_type": "execute_result"
    }
   ],
   "source": [
    "X.shape"
   ]
  },
  {
   "cell_type": "code",
   "execution_count": 11,
   "metadata": {
    "ExecuteTime": {
     "end_time": "2020-09-01T13:11:47.686770Z",
     "start_time": "2020-09-01T13:11:47.680913Z"
    }
   },
   "outputs": [],
   "source": [
    "# reshape from [samples, timesteps] into [samples, timesteps, features]\n",
    "n_features = 1\n",
    "X = X.reshape((X.shape[0], X.shape[1], n_features))"
   ]
  },
  {
   "cell_type": "markdown",
   "metadata": {},
   "source": [
    "## Building LSTM Model"
   ]
  },
  {
   "cell_type": "code",
   "execution_count": 15,
   "metadata": {
    "ExecuteTime": {
     "end_time": "2020-09-01T13:13:29.523435Z",
     "start_time": "2020-09-01T13:13:20.998275Z"
    }
   },
   "outputs": [
    {
     "name": "stdout",
     "output_type": "stream",
     "text": [
      "Epoch 1/200\n",
      "7/7 [==============================] - 2s 320ms/sample - loss: 16405.0508\n",
      "Epoch 2/200\n",
      "7/7 [==============================] - 0s 2ms/sample - loss: 16072.8799\n",
      "Epoch 3/200\n",
      "7/7 [==============================] - 0s 2ms/sample - loss: 15763.8965\n",
      "Epoch 4/200\n",
      "7/7 [==============================] - 0s 2ms/sample - loss: 15486.9297\n",
      "Epoch 5/200\n",
      "7/7 [==============================] - 0s 2ms/sample - loss: 15220.9600\n",
      "Epoch 6/200\n",
      "7/7 [==============================] - 0s 2ms/sample - loss: 14981.6533\n",
      "Epoch 7/200\n",
      "7/7 [==============================] - 0s 2ms/sample - loss: 14780.4062\n",
      "Epoch 8/200\n",
      "7/7 [==============================] - 0s 2ms/sample - loss: 14582.0986\n",
      "Epoch 9/200\n",
      "7/7 [==============================] - 0s 2ms/sample - loss: 14387.3232\n",
      "Epoch 10/200\n",
      "7/7 [==============================] - 0s 3ms/sample - loss: 14188.3818\n",
      "Epoch 11/200\n",
      "7/7 [==============================] - 0s 2ms/sample - loss: 13981.0020\n",
      "Epoch 12/200\n",
      "7/7 [==============================] - 0s 2ms/sample - loss: 13761.5947\n",
      "Epoch 13/200\n",
      "7/7 [==============================] - 0s 2ms/sample - loss: 13524.2480\n",
      "Epoch 14/200\n",
      "7/7 [==============================] - 0s 2ms/sample - loss: 13261.2051\n",
      "Epoch 15/200\n",
      "7/7 [==============================] - 0s 2ms/sample - loss: 12965.2783\n",
      "Epoch 16/200\n",
      "7/7 [==============================] - 0s 2ms/sample - loss: 12622.2881\n",
      "Epoch 17/200\n",
      "7/7 [==============================] - 0s 2ms/sample - loss: 12241.4502\n",
      "Epoch 18/200\n",
      "7/7 [==============================] - 0s 2ms/sample - loss: 11799.2002\n",
      "Epoch 19/200\n",
      "7/7 [==============================] - 0s 2ms/sample - loss: 11279.6045\n",
      "Epoch 20/200\n",
      "7/7 [==============================] - 0s 2ms/sample - loss: 10671.5752\n",
      "Epoch 21/200\n",
      "7/7 [==============================] - 0s 2ms/sample - loss: 10028.2988\n",
      "Epoch 22/200\n",
      "7/7 [==============================] - 0s 2ms/sample - loss: 9311.2275\n",
      "Epoch 23/200\n",
      "7/7 [==============================] - 0s 2ms/sample - loss: 8471.1143\n",
      "Epoch 24/200\n",
      "7/7 [==============================] - 0s 2ms/sample - loss: 7493.8286\n",
      "Epoch 25/200\n",
      "7/7 [==============================] - 0s 2ms/sample - loss: 6471.5869\n",
      "Epoch 26/200\n",
      "7/7 [==============================] - 0s 2ms/sample - loss: 5425.1577\n",
      "Epoch 27/200\n",
      "7/7 [==============================] - 0s 3ms/sample - loss: 4582.5518\n",
      "Epoch 28/200\n",
      "7/7 [==============================] - 0s 2ms/sample - loss: 3877.5842\n",
      "Epoch 29/200\n",
      "7/7 [==============================] - 0s 2ms/sample - loss: 3148.0142\n",
      "Epoch 30/200\n",
      "7/7 [==============================] - 0s 2ms/sample - loss: 2461.8752\n",
      "Epoch 31/200\n",
      "7/7 [==============================] - 0s 2ms/sample - loss: 1822.4423\n",
      "Epoch 32/200\n",
      "7/7 [==============================] - 0s 2ms/sample - loss: 1226.1731\n",
      "Epoch 33/200\n",
      "7/7 [==============================] - 0s 2ms/sample - loss: 733.9048\n",
      "Epoch 34/200\n",
      "7/7 [==============================] - 0s 2ms/sample - loss: 384.3555\n",
      "Epoch 35/200\n",
      "7/7 [==============================] - 0s 2ms/sample - loss: 147.8559\n",
      "Epoch 36/200\n",
      "7/7 [==============================] - 0s 2ms/sample - loss: 40.5274\n",
      "Epoch 37/200\n",
      "7/7 [==============================] - 0s 2ms/sample - loss: 69.9665\n",
      "Epoch 38/200\n",
      "7/7 [==============================] - 0s 3ms/sample - loss: 189.6111\n",
      "Epoch 39/200\n",
      "7/7 [==============================] - 0s 2ms/sample - loss: 347.5325\n",
      "Epoch 40/200\n",
      "7/7 [==============================] - 0s 2ms/sample - loss: 490.9771\n",
      "Epoch 41/200\n",
      "7/7 [==============================] - 0s 2ms/sample - loss: 590.7726\n",
      "Epoch 42/200\n",
      "7/7 [==============================] - 0s 3ms/sample - loss: 632.4527\n",
      "Epoch 43/200\n",
      "7/7 [==============================] - 0s 2ms/sample - loss: 620.2363\n",
      "Epoch 44/200\n",
      "7/7 [==============================] - 0s 3ms/sample - loss: 567.3828\n",
      "Epoch 45/200\n",
      "7/7 [==============================] - 0s 3ms/sample - loss: 486.2332\n",
      "Epoch 46/200\n",
      "7/7 [==============================] - 0s 2ms/sample - loss: 390.5502\n",
      "Epoch 47/200\n",
      "7/7 [==============================] - 0s 2ms/sample - loss: 293.8741\n",
      "Epoch 48/200\n",
      "7/7 [==============================] - 0s 3ms/sample - loss: 207.0494\n",
      "Epoch 49/200\n",
      "7/7 [==============================] - 0s 3ms/sample - loss: 136.5567\n",
      "Epoch 50/200\n",
      "7/7 [==============================] - 0s 3ms/sample - loss: 84.4914\n",
      "Epoch 51/200\n",
      "7/7 [==============================] - 0s 3ms/sample - loss: 51.4047\n",
      "Epoch 52/200\n",
      "7/7 [==============================] - 0s 2ms/sample - loss: 35.0727\n",
      "Epoch 53/200\n",
      "7/7 [==============================] - 0s 3ms/sample - loss: 32.4176\n",
      "Epoch 54/200\n",
      "7/7 [==============================] - 0s 3ms/sample - loss: 39.7295\n",
      "Epoch 55/200\n",
      "7/7 [==============================] - 0s 3ms/sample - loss: 53.1243\n",
      "Epoch 56/200\n",
      "7/7 [==============================] - 0s 3ms/sample - loss: 69.0477\n",
      "Epoch 57/200\n",
      "7/7 [==============================] - 0s 4ms/sample - loss: 84.6086\n",
      "Epoch 58/200\n",
      "7/7 [==============================] - 0s 3ms/sample - loss: 97.7050\n",
      "Epoch 59/200\n",
      "7/7 [==============================] - 0s 3ms/sample - loss: 106.9256\n",
      "Epoch 60/200\n",
      "7/7 [==============================] - 0s 2ms/sample - loss: 111.5594\n",
      "Epoch 61/200\n",
      "7/7 [==============================] - 0s 2ms/sample - loss: 111.5194\n",
      "Epoch 62/200\n",
      "7/7 [==============================] - 0s 2ms/sample - loss: 107.2226\n",
      "Epoch 63/200\n",
      "7/7 [==============================] - 0s 3ms/sample - loss: 99.4600\n",
      "Epoch 64/200\n",
      "7/7 [==============================] - 0s 2ms/sample - loss: 89.2762\n",
      "Epoch 65/200\n",
      "7/7 [==============================] - 0s 2ms/sample - loss: 77.8118\n",
      "Epoch 66/200\n",
      "7/7 [==============================] - 0s 3ms/sample - loss: 66.1833\n",
      "Epoch 67/200\n",
      "7/7 [==============================] - 0s 3ms/sample - loss: 55.3914\n",
      "Epoch 68/200\n",
      "7/7 [==============================] - 0s 2ms/sample - loss: 46.2310\n",
      "Epoch 69/200\n",
      "7/7 [==============================] - 0s 2ms/sample - loss: 39.2366\n",
      "Epoch 70/200\n",
      "7/7 [==============================] - 0s 2ms/sample - loss: 34.6655\n",
      "Epoch 71/200\n",
      "7/7 [==============================] - 0s 2ms/sample - loss: 32.4645\n",
      "Epoch 72/200\n",
      "7/7 [==============================] - 0s 3ms/sample - loss: 32.3330\n",
      "Epoch 73/200\n",
      "7/7 [==============================] - 0s 3ms/sample - loss: 33.7826\n",
      "Epoch 74/200\n",
      "7/7 [==============================] - 0s 2ms/sample - loss: 36.2179\n",
      "Epoch 75/200\n",
      "7/7 [==============================] - 0s 2ms/sample - loss: 39.0214\n",
      "Epoch 76/200\n",
      "7/7 [==============================] - 0s 3ms/sample - loss: 41.6355\n",
      "Epoch 77/200\n",
      "7/7 [==============================] - 0s 2ms/sample - loss: 43.6272\n",
      "Epoch 78/200\n",
      "7/7 [==============================] - 0s 2ms/sample - loss: 44.7283\n",
      "Epoch 79/200\n",
      "7/7 [==============================] - 0s 2ms/sample - loss: 44.8463\n",
      "Epoch 80/200\n",
      "7/7 [==============================] - 0s 3ms/sample - loss: 44.0484\n",
      "Epoch 81/200\n",
      "7/7 [==============================] - 0s 2ms/sample - loss: 42.5250\n",
      "Epoch 82/200\n",
      "7/7 [==============================] - 0s 2ms/sample - loss: 40.5407\n",
      "Epoch 83/200\n",
      "7/7 [==============================] - 0s 2ms/sample - loss: 38.3827\n",
      "Epoch 84/200\n",
      "7/7 [==============================] - 0s 2ms/sample - loss: 36.3170\n",
      "Epoch 85/200\n",
      "7/7 [==============================] - 0s 2ms/sample - loss: 34.5538\n",
      "Epoch 86/200\n",
      "7/7 [==============================] - 0s 2ms/sample - loss: 33.2280\n",
      "Epoch 87/200\n",
      "7/7 [==============================] - 0s 2ms/sample - loss: 32.3954\n",
      "Epoch 88/200\n",
      "7/7 [==============================] - 0s 2ms/sample - loss: 32.0349\n",
      "Epoch 89/200\n",
      "7/7 [==============================] - 0s 2ms/sample - loss: 32.0708\n",
      "Epoch 90/200\n",
      "7/7 [==============================] - 0s 2ms/sample - loss: 32.3909\n",
      "Epoch 91/200\n",
      "7/7 [==============================] - 0s 2ms/sample - loss: 32.8685\n",
      "Epoch 92/200\n",
      "7/7 [==============================] - 0s 3ms/sample - loss: 33.3816\n",
      "Epoch 93/200\n",
      "7/7 [==============================] - 0s 2ms/sample - loss: 33.8282\n",
      "Epoch 94/200\n",
      "7/7 [==============================] - 0s 2ms/sample - loss: 34.1362\n",
      "Epoch 95/200\n",
      "7/7 [==============================] - 0s 2ms/sample - loss: 34.2673\n",
      "Epoch 96/200\n",
      "7/7 [==============================] - 0s 2ms/sample - loss: 34.2159\n",
      "Epoch 97/200\n",
      "7/7 [==============================] - 0s 2ms/sample - loss: 34.0050\n",
      "Epoch 98/200\n",
      "7/7 [==============================] - 0s 3ms/sample - loss: 33.6793\n",
      "Epoch 99/200\n",
      "7/7 [==============================] - 0s 2ms/sample - loss: 33.2882\n",
      "Epoch 100/200\n",
      "7/7 [==============================] - 0s 2ms/sample - loss: 32.8857\n",
      "Epoch 101/200\n",
      "7/7 [==============================] - 0s 2ms/sample - loss: 32.5193\n",
      "Epoch 102/200\n",
      "7/7 [==============================] - 0s 2ms/sample - loss: 32.2246\n",
      "Epoch 103/200\n",
      "7/7 [==============================] - 0s 2ms/sample - loss: 32.0216\n",
      "Epoch 104/200\n",
      "7/7 [==============================] - 0s 2ms/sample - loss: 31.9147\n",
      "Epoch 105/200\n",
      "7/7 [==============================] - 0s 3ms/sample - loss: 31.8947\n",
      "Epoch 106/200\n",
      "7/7 [==============================] - 0s 3ms/sample - loss: 31.9431\n",
      "Epoch 107/200\n",
      "7/7 [==============================] - 0s 3ms/sample - loss: 32.0324\n",
      "Epoch 108/200\n",
      "7/7 [==============================] - 0s 2ms/sample - loss: 32.1357\n",
      "Epoch 109/200\n",
      "7/7 [==============================] - 0s 2ms/sample - loss: 32.2291\n",
      "Epoch 110/200\n",
      "7/7 [==============================] - 0s 2ms/sample - loss: 32.2949\n",
      "Epoch 111/200\n",
      "7/7 [==============================] - 0s 2ms/sample - loss: 32.3233\n",
      "Epoch 112/200\n",
      "7/7 [==============================] - 0s 2ms/sample - loss: 32.3120\n",
      "Epoch 113/200\n",
      "7/7 [==============================] - 0s 2ms/sample - loss: 32.2662\n",
      "Epoch 114/200\n",
      "7/7 [==============================] - 0s 1ms/sample - loss: 32.1954\n",
      "Epoch 115/200\n",
      "7/7 [==============================] - 0s 2ms/sample - loss: 32.1120\n",
      "Epoch 116/200\n",
      "7/7 [==============================] - 0s 2ms/sample - loss: 32.0282\n",
      "Epoch 117/200\n",
      "7/7 [==============================] - 0s 2ms/sample - loss: 31.9545\n",
      "Epoch 118/200\n",
      "7/7 [==============================] - 0s 2ms/sample - loss: 31.8978\n",
      "Epoch 119/200\n",
      "7/7 [==============================] - 0s 2ms/sample - loss: 31.8618\n",
      "Epoch 120/200\n",
      "7/7 [==============================] - 0s 2ms/sample - loss: 31.8461\n",
      "Epoch 121/200\n",
      "7/7 [==============================] - 0s 2ms/sample - loss: 31.8473\n",
      "Epoch 122/200\n",
      "7/7 [==============================] - 0s 2ms/sample - loss: 31.8604\n",
      "Epoch 123/200\n",
      "7/7 [==============================] - 0s 2ms/sample - loss: 31.8790\n",
      "Epoch 124/200\n",
      "7/7 [==============================] - 0s 2ms/sample - loss: 31.8976\n",
      "Epoch 125/200\n",
      "7/7 [==============================] - 0s 2ms/sample - loss: 31.9117\n",
      "Epoch 126/200\n",
      "7/7 [==============================] - 0s 2ms/sample - loss: 31.9182\n",
      "Epoch 127/200\n",
      "7/7 [==============================] - 0s 2ms/sample - loss: 31.9160\n",
      "Epoch 128/200\n",
      "7/7 [==============================] - 0s 2ms/sample - loss: 31.9059\n",
      "Epoch 129/200\n",
      "7/7 [==============================] - 0s 2ms/sample - loss: 31.8895\n",
      "Epoch 130/200\n",
      "7/7 [==============================] - 0s 2ms/sample - loss: 31.8696\n",
      "Epoch 131/200\n",
      "7/7 [==============================] - 0s 2ms/sample - loss: 31.8491\n",
      "Epoch 132/200\n",
      "7/7 [==============================] - 0s 2ms/sample - loss: 31.8302\n",
      "Epoch 133/200\n",
      "7/7 [==============================] - 0s 2ms/sample - loss: 31.8149\n",
      "Epoch 134/200\n",
      "7/7 [==============================] - 0s 2ms/sample - loss: 31.8042\n",
      "Epoch 135/200\n",
      "7/7 [==============================] - 0s 2ms/sample - loss: 31.7979\n",
      "Epoch 136/200\n",
      "7/7 [==============================] - 0s 2ms/sample - loss: 31.7954\n",
      "Epoch 137/200\n",
      "7/7 [==============================] - 0s 2ms/sample - loss: 31.7957\n",
      "Epoch 138/200\n",
      "7/7 [==============================] - 0s 2ms/sample - loss: 31.7972\n",
      "Epoch 139/200\n",
      "7/7 [==============================] - 0s 2ms/sample - loss: 31.7987\n",
      "Epoch 140/200\n",
      "7/7 [==============================] - 0s 1ms/sample - loss: 31.7990\n",
      "Epoch 141/200\n",
      "7/7 [==============================] - 0s 2ms/sample - loss: 31.7976\n",
      "Epoch 142/200\n",
      "7/7 [==============================] - 0s 2ms/sample - loss: 31.7942\n",
      "Epoch 143/200\n",
      "7/7 [==============================] - 0s 2ms/sample - loss: 31.7890\n",
      "Epoch 144/200\n",
      "7/7 [==============================] - 0s 2ms/sample - loss: 31.7825\n",
      "Epoch 145/200\n",
      "7/7 [==============================] - 0s 2ms/sample - loss: 31.7753\n",
      "Epoch 146/200\n",
      "7/7 [==============================] - 0s 2ms/sample - loss: 31.7679\n",
      "Epoch 147/200\n",
      "7/7 [==============================] - 0s 2ms/sample - loss: 31.7612\n",
      "Epoch 148/200\n",
      "7/7 [==============================] - 0s 1ms/sample - loss: 31.7554\n",
      "Epoch 149/200\n",
      "7/7 [==============================] - 0s 2ms/sample - loss: 31.7507\n",
      "Epoch 150/200\n",
      "7/7 [==============================] - 0s 2ms/sample - loss: 31.7469\n",
      "Epoch 151/200\n",
      "7/7 [==============================] - 0s 2ms/sample - loss: 31.7439\n",
      "Epoch 152/200\n",
      "7/7 [==============================] - 0s 2ms/sample - loss: 31.7414\n",
      "Epoch 153/200\n",
      "7/7 [==============================] - 0s 3ms/sample - loss: 31.7390\n",
      "Epoch 154/200\n",
      "7/7 [==============================] - 0s 2ms/sample - loss: 31.7365\n",
      "Epoch 155/200\n",
      "7/7 [==============================] - 0s 3ms/sample - loss: 31.7335\n",
      "Epoch 156/200\n",
      "7/7 [==============================] - 0s 2ms/sample - loss: 31.7302\n",
      "Epoch 157/200\n",
      "7/7 [==============================] - 0s 2ms/sample - loss: 31.7263\n",
      "Epoch 158/200\n",
      "7/7 [==============================] - 0s 2ms/sample - loss: 31.7220\n",
      "Epoch 159/200\n",
      "7/7 [==============================] - 0s 2ms/sample - loss: 31.7176\n",
      "Epoch 160/200\n",
      "7/7 [==============================] - 0s 2ms/sample - loss: 31.7130\n",
      "Epoch 161/200\n",
      "7/7 [==============================] - 0s 2ms/sample - loss: 31.7085\n",
      "Epoch 162/200\n",
      "7/7 [==============================] - 0s 2ms/sample - loss: 31.7043\n",
      "Epoch 163/200\n",
      "7/7 [==============================] - 0s 2ms/sample - loss: 31.7004\n",
      "Epoch 164/200\n",
      "7/7 [==============================] - 0s 2ms/sample - loss: 31.6966\n",
      "Epoch 165/200\n",
      "7/7 [==============================] - 0s 2ms/sample - loss: 31.6931\n",
      "Epoch 166/200\n",
      "7/7 [==============================] - 0s 2ms/sample - loss: 31.6897\n",
      "Epoch 167/200\n",
      "7/7 [==============================] - 0s 2ms/sample - loss: 31.6862\n",
      "Epoch 168/200\n",
      "7/7 [==============================] - 0s 2ms/sample - loss: 31.6828\n",
      "Epoch 169/200\n",
      "7/7 [==============================] - 0s 2ms/sample - loss: 31.6792\n",
      "Epoch 170/200\n",
      "7/7 [==============================] - 0s 2ms/sample - loss: 31.6753\n",
      "Epoch 171/200\n",
      "7/7 [==============================] - 0s 2ms/sample - loss: 31.6715\n",
      "Epoch 172/200\n",
      "7/7 [==============================] - 0s 2ms/sample - loss: 31.6675\n",
      "Epoch 173/200\n",
      "7/7 [==============================] - 0s 2ms/sample - loss: 31.6636\n",
      "Epoch 174/200\n",
      "7/7 [==============================] - 0s 2ms/sample - loss: 31.6596\n",
      "Epoch 175/200\n",
      "7/7 [==============================] - 0s 2ms/sample - loss: 31.6556\n",
      "Epoch 176/200\n",
      "7/7 [==============================] - 0s 2ms/sample - loss: 31.6516\n",
      "Epoch 177/200\n",
      "7/7 [==============================] - 0s 2ms/sample - loss: 31.6476\n",
      "Epoch 178/200\n",
      "7/7 [==============================] - 0s 2ms/sample - loss: 31.6438\n",
      "Epoch 179/200\n",
      "7/7 [==============================] - 0s 2ms/sample - loss: 31.6399\n",
      "Epoch 180/200\n",
      "7/7 [==============================] - 0s 2ms/sample - loss: 31.6361\n",
      "Epoch 181/200\n",
      "7/7 [==============================] - 0s 2ms/sample - loss: 31.6322\n",
      "Epoch 182/200\n",
      "7/7 [==============================] - 0s 2ms/sample - loss: 31.6283\n",
      "Epoch 183/200\n",
      "7/7 [==============================] - 0s 2ms/sample - loss: 31.6244\n",
      "Epoch 184/200\n",
      "7/7 [==============================] - 0s 2ms/sample - loss: 31.6204\n",
      "Epoch 185/200\n",
      "7/7 [==============================] - 0s 2ms/sample - loss: 31.6163\n",
      "Epoch 186/200\n",
      "7/7 [==============================] - 0s 1ms/sample - loss: 31.6123\n",
      "Epoch 187/200\n",
      "7/7 [==============================] - 0s 2ms/sample - loss: 31.6083\n",
      "Epoch 188/200\n",
      "7/7 [==============================] - 0s 2ms/sample - loss: 31.6041\n",
      "Epoch 189/200\n",
      "7/7 [==============================] - 0s 2ms/sample - loss: 31.6001\n",
      "Epoch 190/200\n",
      "7/7 [==============================] - 0s 2ms/sample - loss: 31.5960\n",
      "Epoch 191/200\n",
      "7/7 [==============================] - 0s 2ms/sample - loss: 31.5919\n",
      "Epoch 192/200\n",
      "7/7 [==============================] - 0s 2ms/sample - loss: 31.5878\n",
      "Epoch 193/200\n",
      "7/7 [==============================] - 0s 2ms/sample - loss: 31.5837\n",
      "Epoch 194/200\n",
      "7/7 [==============================] - 0s 2ms/sample - loss: 31.5798\n",
      "Epoch 195/200\n",
      "7/7 [==============================] - 0s 2ms/sample - loss: 31.5760\n",
      "Epoch 196/200\n",
      "7/7 [==============================] - 0s 2ms/sample - loss: 31.5721\n",
      "Epoch 197/200\n",
      "7/7 [==============================] - 0s 2ms/sample - loss: 31.5682\n",
      "Epoch 198/200\n",
      "7/7 [==============================] - 0s 2ms/sample - loss: 31.5643\n",
      "Epoch 199/200\n",
      "7/7 [==============================] - 0s 2ms/sample - loss: 31.5602\n",
      "Epoch 200/200\n",
      "7/7 [==============================] - 0s 2ms/sample - loss: 31.5562\n"
     ]
    },
    {
     "data": {
      "text/plain": [
       "<tensorflow.python.keras.callbacks.History at 0x7f47e80c1d30>"
      ]
     },
     "execution_count": 15,
     "metadata": {},
     "output_type": "execute_result"
    }
   ],
   "source": [
    "# define model\n",
    "model = Sequential()\n",
    "model.add(LSTM(50, activation='relu', return_sequences=True, input_shape=(look_back,n_features)))\n",
    "model.add(LSTM(50, activation='relu'))\n",
    "model.add(Dense(1))\n",
    "model.compile(optimizer='adam', loss='mse')\n",
    "# fit model\n",
    "model.fit(X, y, epochs=200, verbose=1)"
   ]
  },
  {
   "cell_type": "markdown",
   "metadata": {},
   "source": [
    "## Predicting For the next 10 data"
   ]
  },
  {
   "cell_type": "code",
   "execution_count": 18,
   "metadata": {
    "ExecuteTime": {
     "end_time": "2020-09-01T13:20:52.013088Z",
     "start_time": "2020-09-01T13:20:52.003622Z"
    }
   },
   "outputs": [
    {
     "data": {
      "text/plain": [
       "array([128, 123, 127])"
      ]
     },
     "execution_count": 18,
     "metadata": {},
     "output_type": "execute_result"
    }
   ],
   "source": [
    "np.array(timeseries_data[-3:])"
   ]
  },
  {
   "cell_type": "code",
   "execution_count": 25,
   "metadata": {
    "ExecuteTime": {
     "end_time": "2020-09-01T13:28:30.573043Z",
     "start_time": "2020-09-01T13:28:30.519140Z"
    }
   },
   "outputs": [
    {
     "name": "stdout",
     "output_type": "stream",
     "text": [
      "[128.56685]\n",
      "1 day input [123.         127.         128.56684875]\n",
      "1 day output [[126.9623]]\n",
      "2 day input [127.         128.56684875 126.96230316]\n",
      "2 day output [[129.66348]]\n",
      "3 day input [128.56685 126.9623  129.66348]\n",
      "3 day output [[130.48398]]\n",
      "4 day input [126.9623  129.66348 130.48398]\n",
      "4 day output [[130.43983]]\n",
      "5 day input [129.66348 130.48398 130.43983]\n",
      "5 day output [[132.34569]]\n",
      "6 day input [130.48398 130.43983 132.34569]\n",
      "6 day output [[133.08978]]\n",
      "7 day input [130.43983 132.34569 133.08978]\n",
      "7 day output [[133.74586]]\n",
      "8 day input [132.34569 133.08978 133.74586]\n",
      "8 day output [[135.2413]]\n",
      "9 day input [133.08978 133.74586 135.2413 ]\n",
      "9 day output [[136.10092]]\n",
      "[128.56685, 126.9623, 129.66348, 130.48398, 130.43983, 132.34569, 133.08978, 133.74586, 135.2413, 136.10092]\n"
     ]
    }
   ],
   "source": [
    "# demonstrate prediction for next 10 days\n",
    "x_input = np.array([128, 123, 127])\n",
    "temp_input=list(x_input)\n",
    "lst_output=[]\n",
    "i=0\n",
    "while(i<10):\n",
    "    \n",
    "    if(len(temp_input)>3):\n",
    "        x_input=np.array(temp_input[1:])\n",
    "        print(\"{} day input {}\".format(i,x_input))\n",
    "        #print(x_input)\n",
    "        x_input = x_input.reshape((1, look_back, n_features))\n",
    "        #print(x_input)\n",
    "        yhat = model.predict(x_input, verbose=0)\n",
    "        print(\"{} day output {}\".format(i,yhat))\n",
    "        temp_input.append(yhat[0][0])\n",
    "        temp_input=temp_input[1:]\n",
    "        #print(temp_input)\n",
    "        lst_output.append(yhat[0][0])\n",
    "        i=i+1\n",
    "    else:\n",
    "        x_input = x_input.reshape((1, look_back, n_features))\n",
    "        yhat = model.predict(x_input, verbose=0)\n",
    "        print(yhat[0])\n",
    "        temp_input.append(yhat[0][0])\n",
    "        lst_output.append(yhat[0][0])\n",
    "        i=i+1\n",
    "    \n",
    "\n",
    "print(lst_output)"
   ]
  },
  {
   "cell_type": "code",
   "execution_count": 26,
   "metadata": {
    "ExecuteTime": {
     "end_time": "2020-09-01T13:28:57.317181Z",
     "start_time": "2020-09-01T13:28:57.311503Z"
    }
   },
   "outputs": [
    {
     "data": {
      "text/plain": [
       "[110,\n",
       " 120,\n",
       " 125,\n",
       " 128,\n",
       " 119,\n",
       " 123,\n",
       " 125,\n",
       " 128,\n",
       " 123,\n",
       " 127,\n",
       " 128.56685,\n",
       " 126.9623,\n",
       " 129.66348,\n",
       " 130.48398,\n",
       " 130.43983,\n",
       " 132.34569,\n",
       " 133.08978,\n",
       " 133.74586,\n",
       " 135.2413,\n",
       " 136.10092]"
      ]
     },
     "execution_count": 26,
     "metadata": {},
     "output_type": "execute_result"
    }
   ],
   "source": [
    "timeseries_data+lst_output"
   ]
  },
  {
   "cell_type": "code",
   "execution_count": null,
   "metadata": {},
   "outputs": [],
   "source": []
  }
 ],
 "metadata": {
  "hide_input": false,
  "kernelspec": {
   "display_name": "Python 3",
   "language": "python",
   "name": "python3"
  },
  "language_info": {
   "codemirror_mode": {
    "name": "ipython",
    "version": 3
   },
   "file_extension": ".py",
   "mimetype": "text/x-python",
   "name": "python",
   "nbconvert_exporter": "python",
   "pygments_lexer": "ipython3",
   "version": "3.6.9"
  }
 },
 "nbformat": 4,
 "nbformat_minor": 4
}
