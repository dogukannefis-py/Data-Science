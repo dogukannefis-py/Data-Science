{
 "cells": [
  {
   "cell_type": "code",
   "execution_count": 1,
   "metadata": {},
   "outputs": [],
   "source": [
    "from nltk.tokenize import sent_tokenize,word_tokenize\n",
    "from nltk.corpus import stopwords\n",
    "from collections import defaultdict\n",
    "from string import punctuation\n",
    "from heapq import nlargest"
   ]
  },
  {
   "cell_type": "code",
   "execution_count": 34,
   "metadata": {},
   "outputs": [],
   "source": [
    "class FrequencySummarizer:\n",
    "    def __init__(self, min_cut=0.1, max_cut=0.9):\n",
    "        self._min_cut = min_cut\n",
    "        self._max_cut = max_cut \n",
    "        self._stopwords = set(stopwords.words('english') + list(punctuation))\n",
    "\n",
    "    def _compute_frequencies(self, word_sent):\n",
    " \n",
    "        freq = defaultdict(int)\n",
    "        for s in word_sent:\n",
    "            for word in s:\n",
    "                if word not in self._stopwords:\n",
    "                    freq[word] += 1\n",
    "        # frequencies normalization and fitering\n",
    "        m = float(max(freq.values()))\n",
    "        for w in list(freq):\n",
    "            freq[w] = freq[w]/m\n",
    "            if freq[w] >= self._max_cut or freq[w] <= self._min_cut:\n",
    "                del freq[w]\n",
    "        return freq\n",
    "\n",
    "    def summarize(self, text, n):\n",
    "\n",
    "        sents = sent_tokenize(text)\n",
    "        assert n <= len(sents)\n",
    "        word_sent = [word_tokenize(s.lower()) for s in sents]\n",
    "        self._freq = self._compute_frequencies(word_sent)\n",
    "        ranking = defaultdict(int)\n",
    "        for i,sent in enumerate(word_sent):\n",
    "            for w in sent:\n",
    "                if w in self._freq:\n",
    "                    ranking[i] += self._freq[w]\n",
    "        sents_idx = self._rank(ranking, n)    \n",
    "        return [sents[j] for j in sents_idx]\n",
    "\n",
    "    def _rank(self, ranking, n):\n",
    "        return nlargest(n, ranking, key=ranking.get)"
   ]
  },
  {
   "cell_type": "code",
   "execution_count": 21,
   "metadata": {},
   "outputs": [],
   "source": [
    "from urllib3 import PoolManager\n",
    "from bs4 import BeautifulSoup\n",
    "\n",
    "\n",
    "\n",
    "def get_only_text(url):\n",
    "    page = http.request('GET', url)\n",
    "    soup = BeautifulSoup(page.data)\n",
    "    text = ' '.join(map(lambda p: p.text, soup.find_all('p')))\n",
    "    return soup.title.text, text"
   ]
  },
  {
   "cell_type": "code",
   "execution_count": 37,
   "metadata": {},
   "outputs": [
    {
     "name": "stdout",
     "output_type": "stream",
     "text": [
      "----------------------------------\n",
      "Coronavirus: UK hospital deaths pass 20,000 - BBC News\n",
      "* Last month, the government's chief scientific adviser, Sir Patrick Vallance, said keeping deaths below 20,000 would be a \"good outcome\".\n",
      "* At the Downing Street briefing, Home Secretary Priti Patel said: \"As the deaths caused by this terrible virus pass another tragic and terrible milestone, the entire nation is grieving.\"\n",
      "----------------------------------\n",
      "Coronavirus test online slots booked up within hour of site reopening - BBC News\n",
      "* For key workers in England and Scotland with symptoms of the virus, and anyone in their household with symptoms, tests at drive-through centres and home testing kits will become available each day from 08:00 BST, Downing Street has said.\n",
      "* Tests at drive-through sites in England were also booked up within an hour, although requests for drive-through tests in Scotland are still currently available on the site.\n",
      "----------------------------------\n",
      "Coronavirus: Immunity passports ‘could increase virus spread’ - BBC News\n",
      "* As of Friday no study had evaluated whether the presence of antibodies to the virus conferred immunity to subsequent infection by the virus in humans, the WHO said.\n",
      "* The organisation also said laboratory tests to detect antibodies needed further validation to determine their accuracy and also needed to distinguish between previous infection by the SARS-CoV-2 virus - which has caused the pandemic - and the six other known coronaviruses in circulation.\n",
      "----------------------------------\n",
      "Coronavirus: Plea for public to get medical care when they need it - BBC News\n",
      "* Dr Sonya Babu-Narayan, associate medical director at the British Heart Foundation, said it was \"vitally important\" that the many thousands of people in the UK with existing heart conditions accessed care \"immediately\" if their condition worsened.\n",
      "* \"If you do have symptoms of stroke, chest pain and think it might be a heart attack, a sick child who is deteriorating, if you are a pregnant woman and the baby is not moving as much as it used to - it is important you don't delay,\" he said.\n",
      "----------------------------------\n",
      "Coronavirus: 'Revenge porn' surge hits helpline - BBC News\n",
      "* The Revenge Porn Helpline opened more than 200 cases in the four weeks from 23 March, and more last week than in any week since 2015, when it came into existence as a consequence of section 33 of the Criminal Justice and Courts Act - the law making intimate image abuse a criminal offence for the first time.\n",
      "*  Share this with Email Facebook Messenger Messenger Twitter Pinterest WhatsApp LinkedIn Copy this link These are external links and will open in a new window The lockdown has caused a surge in the number of people contacting the Revenge Porn Helpline, the government-funded service for adults experiencing intimate image abuse.\n",
      "----------------------------------\n",
      "Coronavirus: Belgium unveils plans to lift lockdown - BBC News\n",
      "*  Share this with Email Facebook Messenger Messenger Twitter Pinterest WhatsApp LinkedIn Copy this link These are external links and will open in a new window Belgian Prime Minister Sophie Wilmès has announced a detailed plan to gradually lift the country's coronavirus restrictions.\n",
      "* The first businesses to open will be fabric shops on 4 May, in order to help people comply with new regulations requiring all Belgians aged 12 or over to wear masks on public transport.\n",
      "----------------------------------\n",
      "Coronavirus: Tata Steel 'needs £500m government support' - BBC News\n",
      "*  Share this with Email Facebook Messenger Messenger Twitter Pinterest WhatsApp LinkedIn Copy this link These are external links and will open in a new window Tata Steel needs about £500m of government support to get through the coronavirus pandemic, the MP for Aberavon Stephen Kinnock has said.\n",
      "* A Welsh Government spokesman said: \"We continue to have ongoing discussions with Tata Steel about what support it needs to sustain a strong steel making presence in the UK and in Wales.\"\n",
      "----------------------------------\n",
      "Coronavirus: Lockdown should ease to help economy, says Philip Hammond - BBC News\n",
      "* Addressing concerns around transparency and whether the public were being treated as children, Mr Green said: \"I don't think the government is treating the public like children at all.\"\n",
      "* Mr Hammond said the country cannot afford to wait until a vaccine is developed and called on the government to start easing lockdown measures.\n",
      "----------------------------------\n",
      "Coronavirus and sport: Meetings due to take place to discuss restart - BBC Sport\n",
      "* The English Football League has said it \"welcomes the current steps being taken\" by the government and that a return to playing could only come about \"through a continued collaborative approach\".\n",
      "* The move was described by a source close to the plans as a \"quickening of the pace\" and intended to help sport resume \"within weeks\", if progress was made.\n",
      "----------------------------------\n",
      "Coronavirus: India allows small shops to reopen - BBC News\n",
      "* In March India announced a $22bn (£19bn) bailout for the country's poor to help counter the economic effects of the Covid-19 outbreak - but critics noted that this amounted to just 1% of India's GDP - in stark contrast to the US and Singapore which spent about 10% of their GDP on similar packages.\n",
      "*  Share this with Email Facebook Messenger Messenger Twitter Pinterest WhatsApp LinkedIn Copy this link These are external links and will open in a new window India has allowed small local stores to reopen more than a month after the country went into lockdown because of the coronavirus pandemic.\n",
      "----------------------------------\n",
      "Lam Wing-kee: HK bookseller who defied China opens shop in Taiwan - BBC News\n",
      "* When Hong Kong's political leader, Carrie Lam, proposed a new law that would allow extradition to mainland China, Mr Lam feared he would be \"top of the list\".\n",
      "* Mr Lam had said he wanted a low-key opening because of Covid-19, but his small bookstore on the 10th floor of a building in a popular commercial district of Taipei was crowded with journalists and supporters, as well as flowers and a message from Taiwan's President Tsai Ing-wen, reports the BBC's Cindy Sui in Taipei.\n",
      "----------------------------------\n",
      "Eurovision Again: Why fans of the song contest get together every Saturday - BBC News\n",
      "* Grab snacks and #JoinUs 8pm (UK time) on Saturdays to sync watch and tweet along to a CLASSIC @Eurovision Song Contest 🥂🧃🍿🧀Year + YouTube link revealed 15 mins before start (7.45) 📼Voting opens during show 🗳 Use #EurovisionAgain and watch us trend!\n",
      "* Eurovision Again - watched in sync at 8pm British time on YouTube - connects fans across Europe online and has been the top UK trend on Twitter every time it's been on.\n",
      "----------------------------------\n",
      "Coronavirus: 'Homeless' struggle to social distance - BBC News\n",
      "*  Share this with Email Facebook Messenger Messenger Twitter Pinterest WhatsApp LinkedIn Copy this link These are external links and will open in a new window Share this with Email Facebook Messenger Messenger Twitter Pinterest WhatsApp LinkedIn Copy this link These are external links and will open in a new window Share this with Email Facebook Messenger Messenger Twitter Pinterest WhatsApp LinkedIn Copy this link These are external links and will open in a new window Share this with Email Facebook Messenger Messenger Twitter Pinterest WhatsApp LinkedIn Copy this link These are external links and will open in a new window Share this with Email Facebook Messenger Messenger Twitter Pinterest WhatsApp LinkedIn Copy this link These are external links and will open in a new window Share this with Email Facebook Messenger Messenger Twitter Pinterest WhatsApp LinkedIn Copy this link These are external links and will open in a new window Share this with Email Facebook Messenger Messenger Twitter Pinterest WhatsApp LinkedIn Copy this link These are external links and will open in a new window Thousands of people in the UK are known as \"hidden homeless\" because they don't show up in official figures and either live with friends or family, in temporary accommodation or squats.\n",
      "* Share this with Email Facebook Messenger Messenger Twitter Pinterest WhatsApp LinkedIn Copy this link These are external links and will open in a new window\n"
     ]
    },
    {
     "name": "stdout",
     "output_type": "stream",
     "text": [
      "----------------------------------\n",
      "Coronavirus: Dancer uses bin night to perform for neighbours - BBC News\n",
      "*  Share this with Email Facebook Messenger Messenger Twitter Pinterest WhatsApp LinkedIn Copy this link These are external links and will open in a new window Share this with Email Facebook Messenger Messenger Twitter Pinterest WhatsApp LinkedIn Copy this link These are external links and will open in a new window Share this with Email Facebook Messenger Messenger Twitter Pinterest WhatsApp LinkedIn Copy this link These are external links and will open in a new window Albert Garcia is a graduate professional dancer living in a small flat in Valencia, in Spain.\n",
      "* Music: “Orobroy” by Dorantes Share this with Email Facebook Messenger Messenger Twitter Pinterest WhatsApp LinkedIn Copy this link These are external links and will open in a new window\n",
      "----------------------------------\n",
      "Week in pictures: 18-24 April 2020 - BBC News\n",
      "*  Share this with Email Facebook Messenger Messenger Twitter Pinterest WhatsApp LinkedIn Copy this link These are external links and will open in a new window A selection of powerful news photographs taken around the world this week as people react to the spread of the coronavirus.\n",
      "* All photographs belong to the copyright holders as marked.\n"
     ]
    }
   ],
   "source": [
    "urllib3.disable_warnings(urllib3.exceptions.InsecureRequestWarning)\n",
    "http = urllib3.PoolManager()\n",
    "url='http://feeds.bbci.co.uk/news/rss.xml'\n",
    "feed_xml = http.request('GET', url)\n",
    "\n",
    "\n",
    "\n",
    "feed = BeautifulSoup(feed_xml.data.decode('utf-8'))\n",
    "to_summarize = list(map(lambda p: p.text, feed.find_all('guid')))\n",
    "\n",
    "fs = FrequencySummarizer()\n",
    "for article_url in to_summarize[:15]:\n",
    "    title, text = get_only_text(article_url)\n",
    "    print ('----------------------------------')\n",
    "    print (title)\n",
    "    for s in fs.summarize(text, 2):\n",
    "        print ('*',s)"
   ]
  },
  {
   "cell_type": "code",
   "execution_count": 28,
   "metadata": {},
   "outputs": [
    {
     "data": {
      "text/plain": [
       "'https://www.bbc.co.uk/news/uk-52424413'"
      ]
     },
     "execution_count": 28,
     "metadata": {},
     "output_type": "execute_result"
    }
   ],
   "source": [
    "feed.find('guid').text"
   ]
  },
  {
   "cell_type": "code",
   "execution_count": 32,
   "metadata": {},
   "outputs": [
    {
     "ename": "TypeError",
     "evalue": "'map' object is not subscriptable",
     "output_type": "error",
     "traceback": [
      "\u001b[1;31m---------------------------------------------------------------------------\u001b[0m",
      "\u001b[1;31mTypeError\u001b[0m                                 Traceback (most recent call last)",
      "\u001b[1;32m<ipython-input-32-bfc0893f0802>\u001b[0m in \u001b[0;36m<module>\u001b[1;34m\u001b[0m\n\u001b[1;32m----> 1\u001b[1;33m \u001b[0mto_summarize\u001b[0m\u001b[1;33m[\u001b[0m\u001b[1;33m:\u001b[0m\u001b[1;36m1\u001b[0m\u001b[1;33m]\u001b[0m\u001b[1;33m\u001b[0m\u001b[1;33m\u001b[0m\u001b[0m\n\u001b[0m",
      "\u001b[1;31mTypeError\u001b[0m: 'map' object is not subscriptable"
     ]
    }
   ],
   "source": [
    "to_summarize[:1]"
   ]
  },
  {
   "cell_type": "code",
   "execution_count": null,
   "metadata": {},
   "outputs": [],
   "source": []
  }
 ],
 "metadata": {
  "kernelspec": {
   "display_name": "Python 3",
   "language": "python",
   "name": "python3"
  },
  "language_info": {
   "codemirror_mode": {
    "name": "ipython",
    "version": 3
   },
   "file_extension": ".py",
   "mimetype": "text/x-python",
   "name": "python",
   "nbconvert_exporter": "python",
   "pygments_lexer": "ipython3",
   "version": "3.7.3"
  }
 },
 "nbformat": 4,
 "nbformat_minor": 2
}
